{
  "cells": [
    {
      "metadata": {
        "trusted": true,
        "_uuid": "e84354e5b672d5bbf666eb70dee27958ca480ba5"
      },
      "cell_type": "code",
      "source": "import pydicom\nimport pandas as pd\nfrom matplotlib import pyplot\nimport cv2 \nimport random\nimport tensorflow as tf\nfrom tensorflow import keras\nimport numpy as np",
      "execution_count": null,
      "outputs": []
    },
    {
      "metadata": {
        "_uuid": "7fac4dc559fd60bb981701a2088aa9a94a46d6a6"
      },
      "cell_type": "markdown",
      "source": "Juntar listas na inicialização"
    },
    {
      "metadata": {
        "trusted": true,
        "_uuid": "455418730ce01914a162367abf0816edd524926a"
      },
      "cell_type": "code",
      "source": "def junta(lista):\n    listaJunto=[]\n    locs=[]\n    nome=''\n    for ind, linha in lista.iterrows():\n        if nome == linha['patientId']:\n            listaJunto[-1][2].append({'x':linha['x'],'y':linha['y'], 'width':linha['width'], 'height':linha['height']})    \n            \n        else:\n            nome = linha['patientId']\n            target = linha['Target']\n            if target == 1:\n                locs.append({'x':linha['x'],'y':linha['y'], 'width':linha['width'], 'height':linha['height']}) \n            \n            listaJunto.append([nome, target, locs])\n            locs=[]\n    \n    return listaJunto",
      "execution_count": null,
      "outputs": []
    },
    {
      "metadata": {
        "_uuid": "ea0c90a43a56907b0173e1ec7470c86611c37245"
      },
      "cell_type": "markdown",
      "source": "Juntar os quadrados localizados "
    },
    {
      "metadata": {
        "trusted": true,
        "_uuid": "2911bf29eb8691920a1fbb31c63f47fa6d14ec36"
      },
      "cell_type": "code",
      "source": "def juntaRet(listaRet):\n    repete = True\n    while repete:\n        repete = False\n        \n        for i in range(len(listaRet)):\n            for y in range (i+1, len(listaRet)):\n                if y < len(listaRet):\n                    if (listaRet[i]['col'] <= listaRet[y]['col']  and listaRet[y]['col'] <= listaRet[i]['col2']) or (listaRet[i]['col'] <= listaRet[y]['col2'] and listaRet[y]['col2'] <= listaRet[i]['col2'])  \\\n                    or (listaRet[y]['col'] <= listaRet[i]['col']  and listaRet[i]['col'] <= listaRet[y]['col2']) or (listaRet[y]['col'] <= listaRet[i]['col2'] and listaRet[i]['col2'] <= listaRet[y]['col2']) :\n                        if (listaRet[i]['lin']<= listaRet[y]['lin'] and listaRet[y]['lin'] <= listaRet[i]['lin2']) or (listaRet[i]['lin'] <= listaRet[y]['lin2'] and listaRet[y]['lin2'] <= listaRet[i]['lin2']) \\\n                        or (listaRet[y]['lin'] <= listaRet[i]['lin']  and listaRet[i]['lin'] <= listaRet[y]['lin2']) or (listaRet[y]['lin'] <= listaRet[i]['lin2'] and listaRet[i]['lin2'] <= listaRet[y]['lin2']):\n                            if listaRet[i]['col'] > listaRet[y]['col']:\n                                listaRet[i]['col'] = listaRet[y]['col']\n                            if listaRet[i]['col2'] < listaRet[y]['col2']:\n                                listaRet[i]['col2'] = listaRet[y]['col2']\n                            if listaRet[i]['lin'] > listaRet[y]['lin']:\n                                listaRet[i]['lin'] = listaRet[y]['lin']\n                            if listaRet[i]['lin2'] < listaRet[y]['lin2']:\n                                listaRet[i]['lin2'] = listaRet[y]['lin2'] \n                                \n                            listaRet[i]['cont'] = listaRet[y]['cont'] +listaRet[i]['cont']\n                            listaRet[i]['somaConf'] = listaRet[y]['somaConf'] + listaRet[i]['somaConf']\n                        \n                            del listaRet[y]\n                            repete = True\n    \n    return listaRet",
      "execution_count": null,
      "outputs": []
    },
    {
      "metadata": {
        "trusted": true,
        "_uuid": "daef0b5a0c45cfb98a90492dd72b508579ac080a"
      },
      "cell_type": "code",
      "source": "#alterar para os dados oficiais depois\nteste = pd.read_csv('../input/rsna-pneumonia-detection-challenge/stage_1_train_labels.csv')\nteste = junta(teste)\n\nimg =[]\ntesteInfo=[]\nnumFig =10\nfor i in range(0, numFig):\n    num = random.randrange(len(teste))\n   # num=i\n    DICOM = pydicom.read_file('../input/rsna-pneumonia-detection-challenge/stage_1_train_images/{}.dcm'.format(teste[num][0]))\n    img.append(DICOM.pixel_array)\n    testeInfo.append(teste[num])",
      "execution_count": null,
      "outputs": []
    },
    {
      "metadata": {
        "_uuid": "e6d0fc4bc0d0bb9da25ad5e90d81dfe1950429ee"
      },
      "cell_type": "markdown",
      "source": "I will work with images reduced to 64x64, (16x smaller), so in average, a  good kernel to analise the opacities might be (334x220)/16 = aprox. 20x14  (lines (y), columns (x))\n\n\nBoth are normalied to 0->1"
    },
    {
      "metadata": {
        "_uuid": "a9307f2329b83d23dae39cd7b534de1e546f2713"
      },
      "cell_type": "markdown",
      "source": "As to the image processing , it will be as follow:"
    },
    {
      "metadata": {
        "trusted": true,
        "_uuid": "24a8aaaaffc1b54f69f7ec070915b2a9e07ed04f"
      },
      "cell_type": "code",
      "source": "kernel = (16,16) #x,y\ntamanho = (255,255)\nfatorX = 1024/tamanho[0]\nfatorY = 1024/tamanho[1]\n\ndef imProc(imag, tam):    \n    imag= cv2.convertScaleAbs(imag, alpha=3.5, beta=-500)\n    imag = cv2.resize(imag, tam)\n    imag = imag/255.0\n    return(imag)          ",
      "execution_count": null,
      "outputs": []
    },
    {
      "metadata": {
        "_uuid": "1a2b5401ff9a49420fa96d571bdd1b255409a9c0"
      },
      "cell_type": "markdown",
      "source": "import the classifier"
    },
    {
      "metadata": {
        "trusted": true,
        "_uuid": "1dbe005f9da38600d92f53d4e36dd754698b31a5"
      },
      "cell_type": "code",
      "source": "model = keras.models.load_model('../input/pulm-o-ml-4-simplificado/ml4s.h5')\nmodel.load_weights('../input/pulm-o-ml-4-simplificado/ml4s_w.h5')\n#model.load_weights('../input/pulm-o-ml-4-simplificado/ml4s_cp.hdf5')\nmodel.summary()",
      "execution_count": null,
      "outputs": []
    },
    {
      "metadata": {
        "trusted": true,
        "_uuid": "9e5df833fe284f8cd194b4edb675c9d731d970e1"
      },
      "cell_type": "code",
      "source": "resultados=[]\n\n#para cada imagem, percorer:\nfor im in treino:\n    imgArray=[]\n    for i in range(0, tamanho[0]-kernel[0]):        \n        for y in range(0, tamanho[1]-kernel[1]):            \n            imgArray.append(im[i:i+kernel[0], y:y+kernel[1]])\n        \n    imgArray = np.array(imgArray)\n    imgArray=imgArray.reshape([-1,kernel[0], kernel[1],1])        \n    train = tf.convert_to_tensor(imgArray)\n    resultados.append(model.predict(train, steps= 1))",
      "execution_count": null,
      "outputs": []
    },
    {
      "metadata": {
        "trusted": true,
        "_uuid": "a9ec78e04546360384ccd0ef8ba6396f373ce85f"
      },
      "cell_type": "code",
      "source": "local = []\nfor i in range(len(resultados)):\n    for y in range(len(resultados[i])):\n        if(resultados[i][y][1] > 0.7):\n            local.append((i,y, resultados[i][y][1]))",
      "execution_count": null,
      "outputs": []
    },
    {
      "metadata": {
        "_uuid": "75111ff4f67029a9d1a6770f53720818ccffa498"
      },
      "cell_type": "markdown",
      "source": "Diff"
    },
    {
      "metadata": {
        "trusted": true,
        "_uuid": "06a109adb190c45fcee9c90c99f84efd0efb2624"
      },
      "cell_type": "code",
      "source": "coord = []\nfor i in range(len(local)):\n    im = local[i][0]\n    lin = local[i][1]/(tamanho[1]-kernel[1])\n    col = local[i][1]%(tamanho[1]-kernel[1])\n    lin2= lin + kernel[1]\n    col2= col + kernel[0]\n    \n    coord.append({\n        'im':int(im),\n        'lin':int(lin),\n        'lin2':int(lin2),\n        'col':int(col),\n        'col2':int(col2),\n        'conf':local[i][2]\n    } )",
      "execution_count": null,
      "outputs": []
    },
    {
      "metadata": {
        "trusted": true,
        "_uuid": "fdb6c9419fa03d3e8694f67ca058082a2f6ab89f"
      },
      "cell_type": "code",
      "source": "t= 0\ntArayImg= []\ncount = 0\ntId=[]\nfor i in range(0,numFig):               \n    if coord[count]['im'] == i:\n        t = coord[count]['im']\n        tImg = treino[i].copy()\n        while t == coord[count]['im']:\n                cv2.rectangle(tImg, (coord[count]['col'],coord[count]['lin']),(coord[count]['col2'],coord[count]['lin2']),1,1)                \n                count =count+1              \n                if count >= len(coord):\n                    count = len(coord)-1\n                    t=''\n                    \n        tArayImg.append(tImg)         \n        tId.append(i)",
      "execution_count": null,
      "outputs": []
    },
    {
      "metadata": {
        "trusted": true,
        "_uuid": "90a177138e1973cf54cdfe056d74748f301dea99"
      },
      "cell_type": "code",
      "source": "graf, loc= pyplot.subplots(len(tArayImg),2, figsize=(10,70), squeeze=False)\nfor ti in range(len(tArayImg)):\n    i = tId[ti]\n    temp = img[i].copy()\n    loc[ti][0].set_title('Não')\n    if int(testeInfo[i][1]) ==1:\n        for pneumo in testeInfo[i][2]:             \n            temp = cv2.rectangle(temp, ( int(pneumo['x']),int( pneumo['y']) ), (int(pneumo['x']+ pneumo['width']), int( pneumo['y']+ pneumo['height'] ) ), 255, 5)\n        \n        loc[ti][0].set_title('Sim')     \n        \n    loc[ti][0].imshow(temp)    \n    loc[ti][1].imshow(tArayImg[i])\n    \n    ",
      "execution_count": null,
      "outputs": []
    },
    {
      "metadata": {
        "_uuid": "06c50548e7f5546d557b18056e1d407063415d28"
      },
      "cell_type": "markdown",
      "source": "fimdif"
    },
    {
      "metadata": {
        "trusted": true,
        "_uuid": "fa85b169ab73f6593e1c340afb180632648ec7fb"
      },
      "cell_type": "code",
      "source": "coord = []\nfor i in range(len(local)):\n    im = local[i][0]\n    lin = (local[i][1]/(tamanho[1]-kernel[1]))*fatorY\n    col = (local[i][1]%(tamanho[1]-kernel[1]))*fatorX\n    lin2= lin + (kernel[1]*fatorY)\n    col2= col + (kernel[0]*fatorX)\n    coord.append({\n        'im':int(im),\n        'lin':int(lin),\n        'lin2':int(lin2),\n        'col':int(col),\n        'col2':int(col2),\n        'conf':local[i][2]\n    } )",
      "execution_count": null,
      "outputs": []
    },
    {
      "metadata": {
        "trusted": true,
        "_uuid": "fd86583afbe4cfb7be42ec28115a217c330dda63"
      },
      "cell_type": "code",
      "source": "t= 0\ntArayImg2= []\ntArayImg =[]\ncount = 0\ntId=[]\n\nfor i in range(0,numFig):               \n    if coord[count]['im'] == i:\n        t = coord[count]['im']\n        tImg = img[i].copy()\n        tImg2 = img[i].copy()\n        rets =[] \n        while t == coord[count]['im']:\n            rets.append({'col':coord[count]['col'],\n                             'lin':coord[count]['lin'],\n                             'col2':coord[count]['col2'],\n                             'lin2':coord[count]['lin2'],\n                             'cont': 1,\n                             'somaConf': coord[count]['conf']\n                            })\n            tImg = cv2.rectangle(tImg, (coord[count]['col'],coord[count]['lin']),(coord[count]['col2'],coord[count]['lin2']),255,2)\n            count =count+1              \n            if count >= len(coord):\n                count = len(coord)-1\n                t=''    \n        \n        \n        rets = juntaRet(rets)\n        for r in rets:            \n            tImg2 = cv2.rectangle(tImg2, (r['col'],r['lin']),(r['col2'],r['lin2']),255,5)            \n            cv2.putText(tImg2,str(r['somaConf']/r['cont']),(r['col'],r['lin2']), 0 ,1,255,3)\n        tArayImg.append(tImg)\n        tArayImg2.append(tImg2)  \n        tId.append(i)    \n            ",
      "execution_count": null,
      "outputs": []
    },
    {
      "metadata": {
        "trusted": true,
        "_uuid": "f80361c28d61894907e1b2986edfb2e04351ae8e"
      },
      "cell_type": "code",
      "source": "graf, loc= pyplot.subplots(len(tArayImg),3, figsize=(15,80), squeeze=False)\nfor ti in range(len(tArayImg)):\n    i = tId[ti]\n    temp = img[i].copy()\n    loc[ti][0].set_title('Não')\n    if int(testeInfo[i][1]) ==1:\n        for pneumo in testeInfo[i][2]:             \n            temp = cv2.rectangle(temp, ( int(pneumo['x']),int( pneumo['y']) ), (int(pneumo['x']+ pneumo['width']), int( pneumo['y']+ pneumo['height'] ) ), 255, 5)\n            \n        loc[ti][0].set_title('Sim')     \n    loc[ti][0].imshow(temp)  \n    loc[ti][1].imshow(tArayImg[i])\n    loc[ti][2].imshow(tArayImg2[i])",
      "execution_count": null,
      "outputs": []
    }
  ],
  "metadata": {
    "kernelspec": {
      "display_name": "Python 3",
      "language": "python",
      "name": "python3"
    },
    "language_info": {
      "name": "python",
      "version": "3.6.6",
      "mimetype": "text/x-python",
      "codemirror_mode": {
        "name": "ipython",
        "version": 3
      },
      "pygments_lexer": "ipython3",
      "nbconvert_exporter": "python",
      "file_extension": ".py"
    }
  },
  "nbformat": 4,
  "nbformat_minor": 1
}